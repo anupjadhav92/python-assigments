{
 "cells": [
  {
   "cell_type": "code",
   "execution_count": 1,
   "id": "a4e507f1",
   "metadata": {},
   "outputs": [
    {
     "name": "stdout",
     "output_type": "stream",
     "text": [
      "Enter the first number:24\n",
      "Enter the second number:56\n",
      "LCM is: 168\n"
     ]
    }
   ],
   "source": [
    "#Q1 Write a Python Program to Find LCM?\n",
    "a=int(input(\"Enter the first number:\"))\n",
    "b=int(input(\"Enter the second number:\"))\n",
    "if(a>b):\n",
    "    i=a\n",
    "else:\n",
    "    i=b\n",
    "while(1):\n",
    "    if(i%a==0 and i%b==0):\n",
    "        print(\"LCM is:\",i)\n",
    "        break\n",
    "    i=i+1"
   ]
  },
  {
   "cell_type": "code",
   "execution_count": 7,
   "id": "01bd3217",
   "metadata": {},
   "outputs": [
    {
     "name": "stdout",
     "output_type": "stream",
     "text": [
      "Enter the first number: 24\n",
      "Enter the second number: 36\n",
      "Hcf of 24.0 and 36.0 is 12.0\n"
     ]
    }
   ],
   "source": [
    "#Q2 Write a Python Program to Find HCF\n",
    "num1 = float(input(\"Enter the first number: \"))\n",
    "num2 = float(input(\"Enter the second number: \"))\n",
    "a = num1\n",
    "b = num2\n",
    "\n",
    "while num1 != num2:\n",
    "    if num1 > num2:\n",
    "        num1 -= num2\n",
    "    else:\n",
    "        num2 -= num1\n",
    "\n",
    "print(\"Hcf of\", a, \"and\", b, \"is\", num1)"
   ]
  },
  {
   "cell_type": "code",
   "execution_count": 9,
   "id": "5144a3b8",
   "metadata": {},
   "outputs": [
    {
     "name": "stdout",
     "output_type": "stream",
     "text": [
      "Enter an integer: 23\n",
      "The decimal value of 23 is:\n",
      "0b10111 in binary.\n",
      "0o27 in octal.\n",
      "0x17 in hexadecimal.\n"
     ]
    }
   ],
   "source": [
    "#Q3 Write a Python Program to Convert Decimal to Binary, Octal and Hexadecimal\n",
    "a = int(input(\"Enter an integer: \"))\n",
    " \n",
    "print(\"The decimal value of\", a, \"is:\")\n",
    "print(bin(a), \"in binary.\")\n",
    "print(oct(a), \"in octal.\")\n",
    "print(hex(a), \"in hexadecimal.\")"
   ]
  },
  {
   "cell_type": "code",
   "execution_count": 24,
   "id": "5a20c280",
   "metadata": {},
   "outputs": [
    {
     "name": "stdout",
     "output_type": "stream",
     "text": [
      "Please enter a character: f\n",
      "The ASCII value of 'f' is  102\n"
     ]
    }
   ],
   "source": [
    "#Q4 Write a Python Program To Find ASCII value of a character\n",
    "a = input(\"Please enter a character: \")    \n",
    "\n",
    "print (\"The ASCII value of '\" + a + \"' is \", ord(a))"
   ]
  },
  {
   "cell_type": "code",
   "execution_count": 25,
   "id": "5b98c418",
   "metadata": {},
   "outputs": [
    {
     "name": "stdout",
     "output_type": "stream",
     "text": [
      "\n",
      "Please type in the math operation you would like to complete:\n",
      "+ for addition\n",
      "- for subtraction\n",
      "* for multiplication\n",
      "/ for division\n",
      "+\n",
      "Enter your first number: 34\n",
      "Enter your second number: 33\n",
      "34 + 33 = \n",
      "67\n"
     ]
    }
   ],
   "source": [
    "#Q5 Write a Python Program to Make a Simple Calculator with 4 basic mathematical operations?\n",
    "operation = input('''\n",
    "Please type in the math operation you would like to complete:\n",
    "+ for addition\n",
    "- for subtraction\n",
    "* for multiplication\n",
    "/ for division\n",
    "''')\n",
    "\n",
    "number_1 = int(input('Enter your first number: '))\n",
    "number_2 = int(input('Enter your second number: '))\n",
    "\n",
    "if operation == '+':\n",
    "    print('{} + {} = '.format(number_1, number_2))\n",
    "    print(number_1 + number_2)\n",
    "\n",
    "elif operation == '-':\n",
    "    print('{} - {} = '.format(number_1, number_2))\n",
    "    print(number_1 - number_2)\n",
    "\n",
    "elif operation == '*':\n",
    "    print('{} * {} = '.format(number_1, number_2))\n",
    "    print(number_1 * number_2)\n",
    "\n",
    "elif operation == '/':\n",
    "    print('{} / {} = '.format(number_1, number_2))\n",
    "    print(number_1 / number_2)\n",
    "\n",
    "else:\n",
    "    print('You have not typed a valid operator, please run the program again.')"
   ]
  },
  {
   "cell_type": "code",
   "execution_count": null,
   "id": "b724b06f",
   "metadata": {},
   "outputs": [],
   "source": []
  }
 ],
 "metadata": {
  "kernelspec": {
   "display_name": "Python 3 (ipykernel)",
   "language": "python",
   "name": "python3"
  },
  "language_info": {
   "codemirror_mode": {
    "name": "ipython",
    "version": 3
   },
   "file_extension": ".py",
   "mimetype": "text/x-python",
   "name": "python",
   "nbconvert_exporter": "python",
   "pygments_lexer": "ipython3",
   "version": "3.9.7"
  }
 },
 "nbformat": 4,
 "nbformat_minor": 5
}
