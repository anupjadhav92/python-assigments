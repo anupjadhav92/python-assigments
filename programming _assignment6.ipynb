{
 "cells": [
  {
   "cell_type": "code",
   "execution_count": 1,
   "id": "1ec55bc0",
   "metadata": {},
   "outputs": [
    {
     "name": "stdout",
     "output_type": "stream",
     "text": [
      "Fibonacci Series: 0 1 1 2 3 5 8 13 21 34 \n"
     ]
    }
   ],
   "source": [
    "#Q1 Write a Python Program to Display Fibonacci Sequence Using Recursion?\n",
    "num = 10\n",
    "n1, n2 = 0, 1\n",
    "print(\"Fibonacci Series:\", n1, n2, end=\" \")\n",
    "for i in range(2, num):\n",
    "    n3 = n1 + n2\n",
    "    n1 = n2\n",
    "    n2 = n3\n",
    "    print(n3, end=\" \")\n",
    "\n",
    "print()"
   ]
  },
  {
   "cell_type": "code",
   "execution_count": 38,
   "id": "cb659859",
   "metadata": {},
   "outputs": [
    {
     "name": "stdout",
     "output_type": "stream",
     "text": [
      "enter the number for which factorial will be displayed - 5\n"
     ]
    },
    {
     "data": {
      "text/plain": [
       "120"
      ]
     },
     "execution_count": 38,
     "metadata": {},
     "output_type": "execute_result"
    }
   ],
   "source": [
    "#Q2 Write a Python Program to Find Factorial of Number Using Recursion?\n",
    "\n",
    "def factorial(x):\n",
    "    f=1\n",
    "    for i in range(1,x+1):\n",
    "        f= i*f\n",
    "        if i == x:\n",
    "            return f\n",
    "\n",
    "x=int(input(\"enter the number for which factorial will be displayed - \"))\n",
    "factorial(x)\n"
   ]
  },
  {
   "cell_type": "code",
   "execution_count": 16,
   "id": "8082c231",
   "metadata": {},
   "outputs": [
    {
     "name": "stdout",
     "output_type": "stream",
     "text": [
      "Enter your weight in KG = 76\n",
      "Enter your height in cm = 180\n",
      "Your BMI is -  23\n"
     ]
    }
   ],
   "source": [
    "#Q3 Write a Python Program to calculate your Body Mass Index?\n",
    "\n",
    "weight = float(input(\"Enter your weight in KG = \"))\n",
    "height = float(input(\"Enter your height in cm = \"))\n",
    "\n",
    "BMI = int(weight/((height/100)**2))\n",
    "print(\"Your BMI is - \", BMI)"
   ]
  },
  {
   "cell_type": "code",
   "execution_count": 28,
   "id": "cdb3da64",
   "metadata": {},
   "outputs": [
    {
     "name": "stdout",
     "output_type": "stream",
     "text": [
      "enter x in Log(x) = 2\n",
      "log2 is equal to 0.6931471805599453\n"
     ]
    }
   ],
   "source": [
    "#Q4 Write a Python Program to calculate the natural logarithm of any number?\n",
    "\n",
    "import math\n",
    "\n",
    "logx= float(input(\"enter x in Log(x) = \"))\n",
    "\n",
    "print(\"log{} is equal to {}\".format(int(logx), float(math.log(logx))))"
   ]
  },
  {
   "cell_type": "code",
   "execution_count": 44,
   "id": "f5a53e72",
   "metadata": {},
   "outputs": [
    {
     "name": "stdout",
     "output_type": "stream",
     "text": [
      "Enter the nth number for which sumation of the cubes are required = 5\n",
      "225\n"
     ]
    }
   ],
   "source": [
    "#Q5 Write a Python Program for cube sum of first n natural numbers?\n",
    "\n",
    "n = int(input(\"Enter the nth number for which sumation of the cubes are required = \"))\n",
    "\n",
    "f=0\n",
    "for i in range(1,n+1):\n",
    "    f= (i**3)+f\n",
    "    if i == n:\n",
    "        print(f)\n",
    "    \n",
    "    "
   ]
  },
  {
   "cell_type": "code",
   "execution_count": null,
   "id": "1094ddfc",
   "metadata": {},
   "outputs": [],
   "source": []
  }
 ],
 "metadata": {
  "kernelspec": {
   "display_name": "Python 3 (ipykernel)",
   "language": "python",
   "name": "python3"
  },
  "language_info": {
   "codemirror_mode": {
    "name": "ipython",
    "version": 3
   },
   "file_extension": ".py",
   "mimetype": "text/x-python",
   "name": "python",
   "nbconvert_exporter": "python",
   "pygments_lexer": "ipython3",
   "version": "3.9.7"
  }
 },
 "nbformat": 4,
 "nbformat_minor": 5
}
